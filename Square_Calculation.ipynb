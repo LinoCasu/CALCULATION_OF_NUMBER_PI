{
  "nbformat": 4,
  "nbformat_minor": 0,
  "metadata": {
    "colab": {
      "private_outputs": true,
      "provenance": [],
      "authorship_tag": "ABX9TyMpldYMmC7wGgJCZkXvFDN6",
      "include_colab_link": true
    },
    "kernelspec": {
      "name": "python3",
      "display_name": "Python 3"
    },
    "language_info": {
      "name": "python"
    }
  },
  "cells": [
    {
      "cell_type": "markdown",
      "metadata": {
        "id": "view-in-github",
        "colab_type": "text"
      },
      "source": [
        "<a href=\"https://colab.research.google.com/github/LinoCasu/CALCULATION_OF_NUMBER_PI/blob/main/Square_Calculation.ipynb\" target=\"_parent\"><img src=\"https://colab.research.google.com/assets/colab-badge.svg\" alt=\"Open In Colab\"/></a>"
      ]
    },
    {
      "cell_type": "code",
      "execution_count": null,
      "metadata": {
        "id": "S_9viXvTgmMP"
      },
      "outputs": [],
      "source": [
        "import decimal\n",
        "\n",
        "# Set the precision to a higher number of decimal places\n",
        "decimal.getcontext().prec = 50\n",
        "\n",
        "# Function to calculate the power using decimal\n",
        "def calculate_power(number, exponent):\n",
        "    number_decimal = decimal.Decimal(number)\n",
        "    return number_decimal ** decimal.Decimal(exponent)\n",
        "\n",
        "# Main program\n",
        "if __name__ == \"__main__\":\n",
        "    try:\n",
        "        # Input the number\n",
        "        number = input(\"Enter the number you want to raise to a power: \")\n",
        "\n",
        "        # Input the exponent\n",
        "        exponent = input(\"Enter the exponent (e.g., 2 for square, 3 for cube): \")\n",
        "\n",
        "        # Calculate the power\n",
        "        result = calculate_power(number, exponent)\n",
        "\n",
        "        # Output the result without scientific notation\n",
        "        print(f\"{number} raised to the power of {exponent} is {result}\")\n",
        "\n",
        "    except decimal.InvalidOperation:\n",
        "        print(\"Please enter a valid number.\")\n"
      ]
    }
  ]
}