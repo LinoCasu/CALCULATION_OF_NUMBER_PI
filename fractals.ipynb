{
  "nbformat": 4,
  "nbformat_minor": 0,
  "metadata": {
    "colab": {
      "private_outputs": true,
      "provenance": [],
      "authorship_tag": "ABX9TyOV0RzaoSU6FOHEKSu7tSiV",
      "include_colab_link": true
    },
    "kernelspec": {
      "name": "python3",
      "display_name": "Python 3"
    },
    "language_info": {
      "name": "python"
    }
  },
  "cells": [
    {
      "cell_type": "markdown",
      "metadata": {
        "id": "view-in-github",
        "colab_type": "text"
      },
      "source": [
        "<a href=\"https://colab.research.google.com/github/LinoCasu/CALCULATION_OF_NUMBER_PI/blob/main/fractals.ipynb\" target=\"_parent\"><img src=\"https://colab.research.google.com/assets/colab-badge.svg\" alt=\"Open In Colab\"/></a>"
      ]
    },
    {
      "cell_type": "code",
      "execution_count": null,
      "metadata": {
        "id": "2DUrDqhJwdaO"
      },
      "outputs": [],
      "source": [
        "# Install necessary dependencies\n",
        "!pip install numpy matplotlib\n"
      ]
    },
    {
      "cell_type": "code",
      "source": [
        "import numpy as np\n",
        "import matplotlib.pyplot as plt\n",
        "from IPython.display import clear_output\n",
        "\n",
        "# Function to display the Mandelbrot set\n",
        "def mandelbrot(c, max_iter):\n",
        "    z = c\n",
        "    for n in range(max_iter):\n",
        "        if abs(z) > 2:\n",
        "            return n\n",
        "        z = z * z + c\n",
        "    return max_iter\n",
        "\n",
        "# Fractal generation functions\n",
        "def generate_fractal(fractal_type, x_min, x_max, y_min, y_max, width, height, max_iter, progress_callback, c=0+0j):\n",
        "    x, y = np.linspace(x_min, x_max, width), np.linspace(y_min, y_max, height)\n",
        "    X, Y = np.meshgrid(x, y)\n",
        "    Z = X + 1j * Y\n",
        "    fractal = np.zeros(Z.shape, dtype=int)\n",
        "\n",
        "    for i in range(width):\n",
        "        for j in range(height):\n",
        "            if fractal_type == \"Mandelbrot\":\n",
        "                fractal[j, i] = mandelbrot(Z[j, i], max_iter)\n",
        "            elif fractal_type == \"Julia\":\n",
        "                fractal[j, i] = mandelbrot(Z[j, i] + c, max_iter)\n",
        "            elif fractal_type == \"Burning Ship\":\n",
        "                Z[j, i] = abs(Z[j, i].real) + 1j * abs(Z[j, i].imag)\n",
        "                fractal[j, i] = mandelbrot(Z[j, i], max_iter)\n",
        "            elif fractal_type == \"Tricorn\":\n",
        "                Z[j, i] = np.conj(Z[j, i])**2 + Z[j, i]\n",
        "                fractal[j, i] = mandelbrot(Z[j, i], max_iter)\n",
        "            elif fractal_type == \"Newton\":\n",
        "                z = Z[j, i]\n",
        "                for n in range(max_iter):\n",
        "                    dz = (z**3 - 1) / (3 * z**2)\n",
        "                    z -= dz\n",
        "                    if abs(dz) < 1e-6:\n",
        "                        fractal[j, i] = n\n",
        "                        break\n",
        "                else:\n",
        "                    fractal[j, i] = max_iter\n",
        "\n",
        "        # Update progress\n",
        "        progress_callback((i + 1) / width * 100)\n",
        "\n",
        "    return fractal\n",
        "\n",
        "# Progress function for Google Colab\n",
        "def show_progress(progress):\n",
        "    clear_output(wait=True)\n",
        "    print(f\"Progress: {progress:.2f}%\")\n",
        "\n",
        "# Set parameters for initial fractal display\n",
        "width, height = 400, 400  # Smaller size for faster rendering in Colab\n",
        "x_min, x_max, y_min, y_max = -2.0, 1.0, -1.5, 1.5\n",
        "max_iter = 50\n",
        "fractal_type = \"Mandelbrot\"\n",
        "\n",
        "# Generate and display initial Mandelbrot fractal\n",
        "fractal_data = generate_fractal(fractal_type, x_min, x_max, y_min, y_max, width, height, max_iter, show_progress)\n",
        "\n",
        "# Plot the fractal\n",
        "plt.figure(figsize=(10, 10))\n",
        "plt.imshow(fractal_data, cmap='twilight', extent=[x_min, x_max, y_min, y_max])\n",
        "plt.colorbar()\n",
        "plt.title(f\"{fractal_type} Fractal\")\n",
        "plt.show()\n"
      ],
      "metadata": {
        "id": "7bNWOKHqwhXU"
      },
      "execution_count": null,
      "outputs": []
    }
  ]
}