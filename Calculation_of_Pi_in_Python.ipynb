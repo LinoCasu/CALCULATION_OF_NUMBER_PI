{
  "cells": [
    {
      "cell_type": "markdown",
      "metadata": {
        "id": "view-in-github",
        "colab_type": "text"
      },
      "source": [
        "<a href=\"https://colab.research.google.com/github/LinoCasu/CALCULATION_OF_NUMBER_PI/blob/main/Calculation_of_Pi_in_Python.ipynb\" target=\"_parent\"><img src=\"https://colab.research.google.com/assets/colab-badge.svg\" alt=\"Open In Colab\"/></a>"
      ]
    },
    {
      "cell_type": "code",
      "source": [
        "!pip install gmpy2 psutil\n"
      ],
      "metadata": {
        "id": "N4mbN6jI4XoF",
        "outputId": "fc2158b2-0453-4831-ad31-41f556b62592",
        "colab": {
          "base_uri": "https://localhost:8080/"
        }
      },
      "execution_count": 10,
      "outputs": [
        {
          "output_type": "stream",
          "name": "stdout",
          "text": [
            "Requirement already satisfied: gmpy2 in /usr/local/lib/python3.10/dist-packages (2.2.1)\n",
            "Requirement already satisfied: psutil in /usr/local/lib/python3.10/dist-packages (5.9.5)\n"
          ]
        }
      ]
    },
    {
      "cell_type": "code",
      "source": [
        "import gmpy2\n",
        "from gmpy2 import mpfr, get_context, set_context\n",
        "import time\n",
        "import sys\n",
        "import psutil  # For memory management\n",
        "from google.colab import files  # For downloading the file in Colab\n",
        "\n",
        "# Set up the precision context using MPFR, with memory-efficient chunking\n",
        "def setup_context(digits):\n",
        "    # Increase precision to handle more digits\n",
        "    precision = digits * 5  # Set precision based on digits\n",
        "    context = get_context()\n",
        "    context.precision = precision\n",
        "    set_context(context)\n",
        "\n",
        "# Monitor memory usage and adjust chunk size\n",
        "def monitor_memory(max_memory_gb):\n",
        "    max_memory_bytes = max_memory_gb * 1024 ** 3  # Convert GB to bytes\n",
        "    current_memory = psutil.virtual_memory().used\n",
        "    return current_memory < max_memory_bytes\n",
        "\n",
        "# Chudnovsky algorithm for Pi calculation with memory limits\n",
        "def chudnovsky_algorithm(digits, chunk_size=100000, max_memory_gb=32):\n",
        "    setup_context(digits)\n",
        "\n",
        "    # Chudnovsky constants\n",
        "    C = mpfr(426880) * gmpy2.sqrt(mpfr(10005))\n",
        "    M = mpfr(1)\n",
        "    L = mpfr(13591409)\n",
        "    X = mpfr(1)\n",
        "    K = mpfr(6)\n",
        "    S = L  # Start the sum with L\n",
        "\n",
        "    total_iterations = digits // 14 + 1  # Estimate iterations needed\n",
        "    for k in range(1, total_iterations):\n",
        "        if not monitor_memory(max_memory_gb):\n",
        "            print(\"\\nMemory limit exceeded, reducing chunk size.\")\n",
        "            chunk_size = max(chunk_size // 2, 10000)  # Reduce chunk size\n",
        "            break\n",
        "\n",
        "        M = (K**3 - 16 * K) * M / k**3\n",
        "        L += 545140134\n",
        "        X *= -262537412640768000\n",
        "        S += M * L / X\n",
        "        K += 12\n",
        "\n",
        "        # Display progress in a single line\n",
        "        progress = (k / total_iterations) * 100\n",
        "        sys.stdout.write(f\"\\rProgress: {progress:.2f}%\")\n",
        "        sys.stdout.flush()\n",
        "\n",
        "    # Final Pi computation\n",
        "    pi_value = C / S\n",
        "    print(f\"\\nFinal Pi value (before formatting): {pi_value}\")\n",
        "    return pi_value\n",
        "\n",
        "# Function to display Pi in the console\n",
        "def display_pi_as_text(pi, digits):\n",
        "    pi_str = str(pi)[:digits + 2]  # Keep only the requested digits\n",
        "    print(f\"\\nPi to {digits} digits:\\n{pi_str}\")\n",
        "    return pi_str\n",
        "\n",
        "# Save Pi to a file and download it in Colab\n",
        "def save_pi_to_file(pi, digits):\n",
        "    pi_str = str(pi)[:digits + 2]  # Keep only the requested digits\n",
        "    with open(\"pi.txt\", \"w\") as f:\n",
        "        f.write(pi_str)\n",
        "    print(f\"\\nPi saved to pi.txt\")\n",
        "    files.download(\"pi.txt\")  # Download the file in Colab\n",
        "\n",
        "# Main function to calculate and display Pi\n",
        "def calculate_pi(digits, max_memory_gb=32):\n",
        "    start_time = time.time()\n",
        "\n",
        "    # Calculate Pi with chunking and memory monitoring\n",
        "    pi_value = chudnovsky_algorithm(digits, max_memory_gb=max_memory_gb)\n",
        "\n",
        "    # Display Pi in the console\n",
        "    pi_str = display_pi_as_text(pi_value, digits)\n",
        "\n",
        "    # Save Pi to a file and download it\n",
        "    save_pi_to_file(pi_value, digits)\n",
        "\n",
        "    # Display first 100 digits of Pi for reference\n",
        "    first_100_digits = pi_str[:102]\n",
        "    print(f\"\\nFirst 100 digits of Pi:\\n{first_100_digits}\")\n",
        "\n",
        "    # Report completion time\n",
        "    elapsed_time = time.time() - start_time\n",
        "    print(f\"Calculation completed in {elapsed_time:.2f} seconds\")\n",
        "\n",
        "if __name__ == \"__main__\":\n",
        "    # Disclaimer\n",
        "    print(\"Disclaimer: The calculation is limited to 1,000,000 digits to prevent memory overflow.\")\n",
        "    print(\"For more digits, use C++ for better performance.\")\n",
        "    print(\"See this repository: https://github.com/LinoCasu/CALCULATION_OF_NUMBER_PI\")\n",
        "    print(\"Have fun with math!\\n\")\n",
        "\n",
        "    # Ask for the number of digits of Pi to calculate (limit to 1,000,000)\n",
        "    digits = int(input(\"Enter the number of digits of Pi to calculate (up to 1,000,000): \"))\n",
        "    digits = min(digits, 1000000)  # Restrict to 1,000,000 digits\n",
        "\n",
        "    max_memory_gb = 32  # Limit memory usage to 32 GB\n",
        "\n",
        "    # Call the main function to calculate Pi\n",
        "    calculate_pi(digits, max_memory_gb=max_memory_gb)\n",
        "\n"
      ],
      "metadata": {
        "id": "9KTHVhcK4LF4",
        "outputId": "70f16386-17b0-4b39-f830-b064bf52ce26",
        "colab": {
          "base_uri": "https://localhost:8080/"
        }
      },
      "execution_count": null,
      "outputs": [
        {
          "output_type": "stream",
          "name": "stdout",
          "text": [
            "Disclaimer: The calculation is limited to 1,000,000 digits to prevent memory overflow.\n",
            "For more digits, use C++ for better performance.\n",
            "See this repository: https://github.com/LinoCasu/CALCULATION_OF_NUMBER_PI\n",
            "Have fun with math!\n",
            "\n",
            "Progress: 26.53%"
          ]
        }
      ]
    },
    {
      "cell_type": "code",
      "source": [],
      "metadata": {
        "id": "suNyZuq4zkKn"
      },
      "execution_count": null,
      "outputs": []
    }
  ],
  "metadata": {
    "colab": {
      "provenance": [],
      "include_colab_link": true
    },
    "kernelspec": {
      "display_name": "Python 3",
      "name": "python3"
    }
  },
  "nbformat": 4,
  "nbformat_minor": 0
}