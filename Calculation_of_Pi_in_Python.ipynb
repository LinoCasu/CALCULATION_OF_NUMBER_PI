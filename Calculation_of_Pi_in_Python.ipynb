{
  "cells": [
    {
      "cell_type": "markdown",
      "metadata": {
        "id": "view-in-github",
        "colab_type": "text"
      },
      "source": [
        "<a href=\"https://colab.research.google.com/github/LinoCasu/CALCULATION_OF_NUMBER_PI/blob/main/Calculation_of_Pi_in_Python.ipynb\" target=\"_parent\"><img src=\"https://colab.research.google.com/assets/colab-badge.svg\" alt=\"Open In Colab\"/></a>"
      ]
    },
    {
      "cell_type": "code",
      "source": [
        "pip install gmpy2"
      ],
      "metadata": {
        "id": "N4mbN6jI4XoF",
        "outputId": "f0d5a704-3ebf-4d88-b913-9dc0d87282e6",
        "colab": {
          "base_uri": "https://localhost:8080/"
        }
      },
      "execution_count": 7,
      "outputs": [
        {
          "output_type": "stream",
          "name": "stdout",
          "text": [
            "Requirement already satisfied: gmpy2 in /usr/local/lib/python3.10/dist-packages (2.2.1)\n"
          ]
        }
      ]
    },
    {
      "cell_type": "code",
      "source": [
        "import gmpy2\n",
        "from gmpy2 import mpfr, get_context, set_context\n",
        "import time\n",
        "import tempfile\n",
        "import os\n",
        "import sys\n",
        "import psutil  # For memory management\n",
        "\n",
        "# Set up the precision context using MPFR, with memory-efficient chunking\n",
        "def setup_context(digits):\n",
        "    max_digits = min(digits, 1000000)  # Restrict to a maximum of 1 million digits\n",
        "    context = get_context()\n",
        "    context.precision = max_digits * 5  # Set precision to handle more digits\n",
        "    set_context(context)\n",
        "\n",
        "# Monitor memory usage and adjust chunk size\n",
        "def monitor_memory(max_memory_gb):\n",
        "    max_memory_bytes = max_memory_gb * 1024 ** 3  # Convert GB to bytes\n",
        "    current_memory = psutil.virtual_memory().used\n",
        "    return current_memory < max_memory_bytes\n",
        "\n",
        "# Function to save intermediate results to a temporary file\n",
        "def save_checkpoint_to_tempfile(partial_sum, temp_file, iteration):\n",
        "    temp_file.write(f\"{str(partial_sum)}\\n{iteration}\\n\")\n",
        "    temp_file.flush()\n",
        "    print(f\"\\nCheckpoint saved at iteration {iteration}\")\n",
        "\n",
        "# Function to load checkpoint from a temporary file\n",
        "def load_checkpoint_from_tempfile(temp_file):\n",
        "    temp_file.seek(0)  # Rewind file to the beginning\n",
        "    lines = temp_file.readlines()\n",
        "    if len(lines) >= 2:\n",
        "        partial_sum = mpfr(lines[0].strip())\n",
        "        iteration = int(lines[1].strip())\n",
        "        print(f\"Checkpoint loaded from iteration {iteration}\")\n",
        "        return partial_sum, iteration\n",
        "    return mpfr(0), 0  # Return initial values if no checkpoint found\n",
        "\n",
        "# Chudnovsky algorithm for Pi calculation with memory limits and temp file offloading\n",
        "def chudnovsky_algorithm(digits, chunk_size=100000, max_memory_gb=32):\n",
        "    # Set high precision context\n",
        "    setup_context(digits)\n",
        "\n",
        "    # Create a temporary file to store intermediate results\n",
        "    with tempfile.NamedTemporaryFile(mode='w+', delete=False) as temp_file:\n",
        "        pi_sum, start_iteration = load_checkpoint_from_tempfile(temp_file)\n",
        "\n",
        "        # Chudnovsky constants\n",
        "        C = mpfr(426880) * gmpy2.sqrt(mpfr(10005))\n",
        "        M = mpfr(1)\n",
        "        L = mpfr(13591409)\n",
        "        X = mpfr(1)\n",
        "        K = mpfr(6)\n",
        "\n",
        "        # Start computation from the checkpointed iteration\n",
        "        total_iterations = digits // 14 + 1  # Estimate iterations needed\n",
        "        for i in range(start_iteration, total_iterations, chunk_size):\n",
        "            for k in range(i, min(i + chunk_size, total_iterations)):\n",
        "                if not monitor_memory(max_memory_gb):\n",
        "                    print(\"\\nMemory limit exceeded, reducing chunk size.\")\n",
        "                    chunk_size = max(chunk_size // 2, 10000)  # Reduce chunk size\n",
        "                    break\n",
        "\n",
        "                # Debugging: Print intermediate values\n",
        "                print(f\"Iteration {k}: M={M}, L={L}, X={X}, K={K}\")\n",
        "\n",
        "                M = (K**3 - 16 * K) * M / (k**3)\n",
        "                L += 545140134\n",
        "                X *= -262537412640768000\n",
        "                pi_sum += M * L / X\n",
        "                K += 12\n",
        "\n",
        "                # Calculate progress percentage and display it on the same line\n",
        "                progress = (k / total_iterations) * 100\n",
        "                sys.stdout.write(f\"\\rProgress: {progress:.2f}%\")\n",
        "                sys.stdout.flush()\n",
        "\n",
        "            # Save intermediate results to the temporary file after each chunk\n",
        "            save_checkpoint_to_tempfile(pi_sum, temp_file, k)\n",
        "\n",
        "        # Final Pi computation\n",
        "        pi_value = C / pi_sum\n",
        "        print(f\"\\nFinal Pi value (before formatting): {pi_value}\")\n",
        "        return pi_value\n",
        "\n",
        "# Function to display the first 100 digits of Pi\n",
        "def display_first_100_digits(pi):\n",
        "    pi_str = str(pi)[:102]  # First 100 digits + \"3.\"\n",
        "    print(f\"\\nFirst 100 digits of Pi:\\n{pi_str}\")\n",
        "\n",
        "# Function to display Pi as text in the console\n",
        "def display_full_pi_as_text(pi, digits):\n",
        "    pi_str = str(pi)[:digits + 2]  # Keep only the requested digits\n",
        "    print(f\"\\nPi to {digits} digits:\\n{pi_str}\")\n",
        "\n",
        "# Main function to calculate and save Pi\n",
        "def calculate_pi(digits, max_memory_gb=32):\n",
        "    start_time = time.time()\n",
        "\n",
        "    # Calculate Pi with chunking and memory monitoring\n",
        "    pi_value = chudnovsky_algorithm(digits, max_memory_gb=max_memory_gb)\n",
        "\n",
        "    # Display the calculated Pi as text\n",
        "    display_full_pi_as_text(pi_value, digits)\n",
        "\n",
        "    # Display first 100 digits of Pi for reference\n",
        "    display_first_100_digits(pi_value)\n",
        "\n",
        "    # Report completion time\n",
        "    elapsed_time = time.time() - start_time\n",
        "    print(f\"Calculation completed in {elapsed_time:.2f} seconds\")\n",
        "\n",
        "if __name__ == \"__main__\":\n",
        "    # Disclaimer\n",
        "    print(\"Disclaimer: The calculation is limited to 1,000,000 digits to prevent memory overflow.\")\n",
        "    print(\"For more digits, you need to use C++ instead of Python.\")\n",
        "    print(\"I compiled that for you here: https://github.com/LinoCasu/CALCULATION_OF_NUMBER_PI\")\n",
        "    print(\"Higher digit computations require significant memory and time resources.\")\n",
        "    print(\"Have fun with math!\\n\")\n",
        "\n",
        "    # Ask for the number of digits of Pi to calculate (but limit to 1,000,000)\n",
        "    digits = int(input(\"Enter the number of digits of Pi to calculate (up to 1,000,000): \"))\n",
        "    digits = min(digits, 1000000)  # Restrict to 1,000,000 digits\n",
        "\n",
        "    max_memory_gb = 32  # Limit memory usage to 32 GB\n",
        "\n",
        "    # Call the main function to calculate Pi\n",
        "    calculate_pi(digits, max_memory_gb=max_memory_gb)\n",
        "\n"
      ],
      "metadata": {
        "id": "9KTHVhcK4LF4",
        "outputId": "7f1da955-a834-43eb-c607-9f86a03ad7d2",
        "colab": {
          "base_uri": "https://localhost:8080/",
          "height": 277
        }
      },
      "execution_count": 8,
      "outputs": [
        {
          "output_type": "stream",
          "name": "stdout",
          "text": [
            "Disclaimer: The calculation is limited to 1,000,000 digits to prevent memory overflow.\n",
            "For more digits, you need to use C++ instead of Python.\n",
            "I compiled that for you here: https://github.com/LinoCasu/CALCULATION_OF_NUMBER_PI\n",
            "Higher digit computations require significant memory and time resources.\n",
            "Have fun with math!\n",
            "\n",
            "Enter the number of digits of Pi to calculate (up to 1,000,000): 10\n",
            "Progress: 0.00%\n",
            "Checkpoint saved at iteration 0\n",
            "\n",
            "Pi saved to pi.txt\n"
          ]
        },
        {
          "output_type": "display_data",
          "data": {
            "text/plain": [
              "<IPython.core.display.Javascript object>"
            ],
            "application/javascript": [
              "\n",
              "    async function download(id, filename, size) {\n",
              "      if (!google.colab.kernel.accessAllowed) {\n",
              "        return;\n",
              "      }\n",
              "      const div = document.createElement('div');\n",
              "      const label = document.createElement('label');\n",
              "      label.textContent = `Downloading \"${filename}\": `;\n",
              "      div.appendChild(label);\n",
              "      const progress = document.createElement('progress');\n",
              "      progress.max = size;\n",
              "      div.appendChild(progress);\n",
              "      document.body.appendChild(div);\n",
              "\n",
              "      const buffers = [];\n",
              "      let downloaded = 0;\n",
              "\n",
              "      const channel = await google.colab.kernel.comms.open(id);\n",
              "      // Send a message to notify the kernel that we're ready.\n",
              "      channel.send({})\n",
              "\n",
              "      for await (const message of channel.messages) {\n",
              "        // Send a message to notify the kernel that we're ready.\n",
              "        channel.send({})\n",
              "        if (message.buffers) {\n",
              "          for (const buffer of message.buffers) {\n",
              "            buffers.push(buffer);\n",
              "            downloaded += buffer.byteLength;\n",
              "            progress.value = downloaded;\n",
              "          }\n",
              "        }\n",
              "      }\n",
              "      const blob = new Blob(buffers, {type: 'application/binary'});\n",
              "      const a = document.createElement('a');\n",
              "      a.href = window.URL.createObjectURL(blob);\n",
              "      a.download = filename;\n",
              "      div.appendChild(a);\n",
              "      a.click();\n",
              "      div.remove();\n",
              "    }\n",
              "  "
            ]
          },
          "metadata": {}
        },
        {
          "output_type": "display_data",
          "data": {
            "text/plain": [
              "<IPython.core.display.Javascript object>"
            ],
            "application/javascript": [
              "download(\"download_5ab1cc1e-005a-4242-8afa-21a190f5869c\", \"pi.txt\", 4)"
            ]
          },
          "metadata": {}
        },
        {
          "output_type": "stream",
          "name": "stdout",
          "text": [
            "\n",
            "First 100 digits of Pi:\n",
            "-0.0\n",
            "Calculation completed in 0.01 seconds\n"
          ]
        }
      ]
    },
    {
      "cell_type": "code",
      "source": [],
      "metadata": {
        "id": "suNyZuq4zkKn"
      },
      "execution_count": null,
      "outputs": []
    }
  ],
  "metadata": {
    "colab": {
      "provenance": [],
      "include_colab_link": true
    },
    "kernelspec": {
      "display_name": "Python 3",
      "name": "python3"
    }
  },
  "nbformat": 4,
  "nbformat_minor": 0
}