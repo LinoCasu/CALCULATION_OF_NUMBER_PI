{
  "cells": [
    {
      "cell_type": "markdown",
      "metadata": {
        "id": "view-in-github",
        "colab_type": "text"
      },
      "source": [
        "<a href=\"https://colab.research.google.com/github/LinoCasu/CALCULATION_OF_NUMBER_PI/blob/main/Calculation_of_Pi_in_Python.ipynb\" target=\"_parent\"><img src=\"https://colab.research.google.com/assets/colab-badge.svg\" alt=\"Open In Colab\"/></a>"
      ]
    },
    {
      "cell_type": "code",
      "source": [
        "pip install gmpy2"
      ],
      "metadata": {
        "id": "N4mbN6jI4XoF",
        "outputId": "1997021e-2e8d-42ca-d1c1-eff781898cb5",
        "colab": {
          "base_uri": "https://localhost:8080/"
        }
      },
      "execution_count": 2,
      "outputs": [
        {
          "output_type": "stream",
          "name": "stdout",
          "text": [
            "Collecting gmpy2\n",
            "  Downloading gmpy2-2.2.1-cp310-cp310-manylinux_2_17_x86_64.manylinux2014_x86_64.whl.metadata (2.8 kB)\n",
            "Downloading gmpy2-2.2.1-cp310-cp310-manylinux_2_17_x86_64.manylinux2014_x86_64.whl (1.7 MB)\n",
            "\u001b[2K   \u001b[90m━━━━━━━━━━━━━━━━━━━━━━━━━━━━━━━━━━━━━━━━\u001b[0m \u001b[32m1.7/1.7 MB\u001b[0m \u001b[31m14.2 MB/s\u001b[0m eta \u001b[36m0:00:00\u001b[0m\n",
            "\u001b[?25hInstalling collected packages: gmpy2\n",
            "Successfully installed gmpy2-2.2.1\n"
          ]
        }
      ]
    },
    {
      "cell_type": "code",
      "source": [
        "import gmpy2\n",
        "from gmpy2 import mpfr, get_context, set_context\n",
        "import time\n",
        "import tempfile\n",
        "import os\n",
        "import sys\n",
        "import psutil  # For memory management\n",
        "from google.colab import files  # For downloading the file in Colab\n",
        "\n",
        "# Set up the precision context using MPFR, with memory-efficient chunking\n",
        "def setup_context(digits):\n",
        "    max_digits = min(digits, 1000000)  # Restrict to a maximum of 1 million digits\n",
        "    context = get_context()\n",
        "    context.precision = max_digits * 5  # Set precision to handle more digits\n",
        "    set_context(context)\n",
        "\n",
        "# Monitor memory usage and adjust chunk size\n",
        "def monitor_memory(max_memory_gb):\n",
        "    max_memory_bytes = max_memory_gb * 1024 ** 3  # Convert GB to bytes\n",
        "    current_memory = psutil.virtual_memory().used\n",
        "    return current_memory < max_memory_bytes\n",
        "\n",
        "# Function to save intermediate results to a temporary file\n",
        "def save_checkpoint_to_tempfile(partial_sum, temp_file, iteration):\n",
        "    temp_file.write(f\"{str(partial_sum)}\\n{iteration}\\n\")\n",
        "    temp_file.flush()\n",
        "    print(f\"\\nCheckpoint saved at iteration {iteration}\")\n",
        "\n",
        "# Function to load checkpoint from a temporary file\n",
        "def load_checkpoint_from_tempfile(temp_file):\n",
        "    temp_file.seek(0)  # Rewind file to the beginning\n",
        "    lines = temp_file.readlines()\n",
        "    if len(lines) >= 2:\n",
        "        partial_sum = mpfr(lines[0].strip())\n",
        "        iteration = int(lines[1].strip())\n",
        "        print(f\"Checkpoint loaded from iteration {iteration}\")\n",
        "        return partial_sum, iteration\n",
        "    return mpfr(0), 0  # Return initial values if no checkpoint found\n",
        "\n",
        "# Chudnovsky algorithm for Pi calculation with memory limits and temp file offloading\n",
        "def chudnovsky_algorithm(digits, chunk_size=100000, max_memory_gb=32):\n",
        "    # Set high precision context\n",
        "    setup_context(digits)\n",
        "\n",
        "    # Create a temporary file to store intermediate results\n",
        "    with tempfile.NamedTemporaryFile(mode='w+', delete=False) as temp_file:\n",
        "        pi_sum, start_iteration = load_checkpoint_from_tempfile(temp_file)\n",
        "\n",
        "        # Chudnovsky constants\n",
        "        C = mpfr(426880) * gmpy2.sqrt(mpfr(10005))\n",
        "        M = mpfr(1)\n",
        "        L = mpfr(13591409)\n",
        "        X = mpfr(1)\n",
        "        K = mpfr(6)\n",
        "\n",
        "        # Start computation from the checkpointed iteration\n",
        "        total_iterations = digits // 14 + 1  # Estimate iterations needed\n",
        "        for i in range(start_iteration, total_iterations, chunk_size):\n",
        "            for k in range(i, min(i + chunk_size, total_iterations)):\n",
        "                if not monitor_memory(max_memory_gb):\n",
        "                    print(\"\\nMemory limit exceeded, reducing chunk size.\")\n",
        "                    chunk_size = max(chunk_size // 2, 10000)  # Reduce chunk size\n",
        "                    break\n",
        "\n",
        "                # Debugging: Print intermediate values\n",
        "                print(f\"Iteration {k}: M={M}, L={L}, X={X}, K={K}\")\n",
        "\n",
        "                M = (K**3 - 16 * K) * M / (k**3)\n",
        "                L += 545140134\n",
        "                X *= -262537412640768000\n",
        "                pi_sum += M * L / X\n",
        "                K += 12\n",
        "\n",
        "                # Calculate progress percentage and display it on the same line\n",
        "                progress = (k / total_iterations) * 100\n",
        "                sys.stdout.write(f\"\\rProgress: {progress:.2f}%\")\n",
        "                sys.stdout.flush()\n",
        "\n",
        "            # Save intermediate results to the temporary file after each chunk\n",
        "            save_checkpoint_to_tempfile(pi_sum, temp_file, k)\n",
        "\n",
        "        # Final Pi computation\n",
        "        pi_value = C / pi_sum\n",
        "        print(f\"\\nFinal Pi value (before formatting): {pi_value}\")\n",
        "        return pi_value\n",
        "\n",
        "# Function to save the calculated digits of Pi to a file\n",
        "def save_pi_to_file(pi, digits, output_file=\"pi.txt\"):\n",
        "    pi_str = str(pi)[:digits + 2]  # Keep only the requested digits\n",
        "    with open(output_file, \"w\") as f:\n",
        "        f.write(pi_str)\n",
        "    print(f\"\\nPi saved to {output_file}\")\n",
        "    # Provide download link in Colab\n",
        "    files.download(output_file)\n",
        "\n",
        "# Function to display the first 100 digits of Pi\n",
        "def display_first_100_digits(pi):\n",
        "    pi_str = str(pi)[:102]  # First 100 digits + \"3.\"\n",
        "    print(f\"\\nFirst 100 digits of Pi:\\n{pi_str}\")\n",
        "\n",
        "# Main function to calculate and save Pi\n",
        "def calculate_pi(digits, output_file=\"pi.txt\", max_memory_gb=32):\n",
        "    start_time = time.time()\n",
        "\n",
        "    # Calculate Pi with chunking and memory monitoring\n",
        "    pi_value = chudnovsky_algorithm(digits, max_memory_gb=max_memory_gb)\n",
        "\n",
        "    # Save Pi to a file and provide a download link\n",
        "    save_pi_to_file(pi_value, digits, output_file)\n",
        "\n",
        "    # Display first 100 digits of Pi\n",
        "    display_first_100_digits(pi_value)\n",
        "\n",
        "    # Report completion time\n",
        "    elapsed_time = time.time() - start_time\n",
        "    print(f\"Calculation completed in {elapsed_time:.2f} seconds\")\n",
        "\n",
        "if __name__ == \"__main__\":\n",
        "    # Disclaimer\n",
        "    print(\"Disclaimer: The calculation is limited to 1,000,000 digits to prevent memory overflow.\")\n",
        "    print(\"For more digits, you need to use C++ instead of Python.\")\n",
        "    print(\"I compiled that for you here: https://github.com/LinoCasu/CALCULATION_OF_NUMBER_PI\")\n",
        "    print(\"Higher digit computations require significant memory and time resources.\")\n",
        "    print(\"Have fun with math!\\n\")\n",
        "\n",
        "    # Ask for the number of digits of Pi to calculate (but limit to 1,000,000)\n",
        "    digits = int(input(\"Enter the number of digits of Pi to calculate (up to 1,000,000): \"))\n",
        "    digits = min(digits, 1000000)  # Restrict to 1,000,000 digits\n",
        "\n",
        "    max_memory_gb = 32  # Limit memory usage to 32 GB\n",
        "\n",
        "    # Call the main function to calculate Pi\n",
        "    calculate_pi(digits, max_memory_gb=max_memory_gb)\n",
        "\n",
        "\n"
      ],
      "metadata": {
        "id": "9KTHVhcK4LF4",
        "outputId": "b97e8b9a-a9bf-4158-b04f-068f810847c4",
        "colab": {
          "base_uri": "https://localhost:8080/",
          "height": 451
        }
      },
      "execution_count": 4,
      "outputs": [
        {
          "output_type": "stream",
          "name": "stdout",
          "text": [
            "Disclaimer: The calculation is limited to 1,000,000 digits to prevent memory overflow.\n",
            "For more digits, you need to use C++ instead of Python.\n",
            "I compiled that for you here: https://github.com/LinoCasu/CALCULATION_OF_NUMBER_PI\n",
            "Higher digit computations require significant memory and time resources.\n",
            "Have fun with math!\n",
            "\n",
            "Enter the number of digits of Pi to calculate (up to 1,000,000): 100\n",
            "Iteration 0: M=1.000000, L=13591409.000000, X=1.000000, K=6.000000\n",
            "Progress: 0.00%Iteration 1: M=inf, L=558731543.000000, X=-262537412640768000.000000, K=18.000000\n",
            "Progress: 12.50%Iteration 2: M=inf, L=1103871677.000000, X=68925893036108889235415629824000000.000000, K=30.000000\n",
            "Progress: 25.00%Iteration 3: M=inf, L=1649011811.000000, X=-18095625621654356959022098935941777779064832000000000.000000, K=42.000000\n",
            "Progress: 37.50%Iteration 4: M=inf, L=2194151945.000000, X=4750778730825123872882070905368780411780329837430598270976000000000000.000000, K=54.000000\n",
            "Progress: 50.00%Iteration 5: M=inf, L=2739292079.000000, X=-1247257156019619631959228850474915324796444794921068388944443347008749568000000000000000.000000, K=66.000000\n",
            "Progress: 62.50%Iteration 6: M=inf, L=3284432213.000000, X=327451666639073632747348064250670392352308586098616377460466717551448127514940459188224000000000000000000.000000, K=78.000000\n",
            "Progress: 75.00%Iteration 7: M=inf, L=3829572347.000000, X=-85968313324329679147913144159833448506973254386513988616524283290680505922024773260861317989407916032000000000000000000000.000000, K=90.000000\n",
            "Progress: 87.50%\n",
            "Checkpoint saved at iteration 7\n",
            "\n",
            "Final Pi value (before formatting): nan\n",
            "\n",
            "Pi saved to pi.txt\n"
          ]
        },
        {
          "output_type": "display_data",
          "data": {
            "text/plain": [
              "<IPython.core.display.Javascript object>"
            ],
            "application/javascript": [
              "\n",
              "    async function download(id, filename, size) {\n",
              "      if (!google.colab.kernel.accessAllowed) {\n",
              "        return;\n",
              "      }\n",
              "      const div = document.createElement('div');\n",
              "      const label = document.createElement('label');\n",
              "      label.textContent = `Downloading \"${filename}\": `;\n",
              "      div.appendChild(label);\n",
              "      const progress = document.createElement('progress');\n",
              "      progress.max = size;\n",
              "      div.appendChild(progress);\n",
              "      document.body.appendChild(div);\n",
              "\n",
              "      const buffers = [];\n",
              "      let downloaded = 0;\n",
              "\n",
              "      const channel = await google.colab.kernel.comms.open(id);\n",
              "      // Send a message to notify the kernel that we're ready.\n",
              "      channel.send({})\n",
              "\n",
              "      for await (const message of channel.messages) {\n",
              "        // Send a message to notify the kernel that we're ready.\n",
              "        channel.send({})\n",
              "        if (message.buffers) {\n",
              "          for (const buffer of message.buffers) {\n",
              "            buffers.push(buffer);\n",
              "            downloaded += buffer.byteLength;\n",
              "            progress.value = downloaded;\n",
              "          }\n",
              "        }\n",
              "      }\n",
              "      const blob = new Blob(buffers, {type: 'application/binary'});\n",
              "      const a = document.createElement('a');\n",
              "      a.href = window.URL.createObjectURL(blob);\n",
              "      a.download = filename;\n",
              "      div.appendChild(a);\n",
              "      a.click();\n",
              "      div.remove();\n",
              "    }\n",
              "  "
            ]
          },
          "metadata": {}
        },
        {
          "output_type": "display_data",
          "data": {
            "text/plain": [
              "<IPython.core.display.Javascript object>"
            ],
            "application/javascript": [
              "download(\"download_b0e6a889-e2aa-48f4-8716-84908f798007\", \"pi.txt\", 3)"
            ]
          },
          "metadata": {}
        },
        {
          "output_type": "stream",
          "name": "stdout",
          "text": [
            "\n",
            "First 100 digits of Pi:\n",
            "nan\n",
            "Calculation completed in 0.03 seconds\n"
          ]
        }
      ]
    }
  ],
  "metadata": {
    "colab": {
      "provenance": [],
      "include_colab_link": true
    },
    "kernelspec": {
      "display_name": "Python 3",
      "name": "python3"
    }
  },
  "nbformat": 4,
  "nbformat_minor": 0
}