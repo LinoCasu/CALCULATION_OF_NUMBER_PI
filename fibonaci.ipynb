{
  "nbformat": 4,
  "nbformat_minor": 0,
  "metadata": {
    "colab": {
      "private_outputs": true,
      "provenance": [],
      "authorship_tag": "ABX9TyMlHni20aOzhIU1+GD7x3x4",
      "include_colab_link": true
    },
    "kernelspec": {
      "name": "python3",
      "display_name": "Python 3"
    },
    "language_info": {
      "name": "python"
    }
  },
  "cells": [
    {
      "cell_type": "markdown",
      "metadata": {
        "id": "view-in-github",
        "colab_type": "text"
      },
      "source": [
        "<a href=\"https://colab.research.google.com/github/LinoCasu/CALCULATION_OF_NUMBER_PI/blob/main/fibonaci.ipynb\" target=\"_parent\"><img src=\"https://colab.research.google.com/assets/colab-badge.svg\" alt=\"Open In Colab\"/></a>"
      ]
    },
    {
      "cell_type": "code",
      "execution_count": null,
      "metadata": {
        "id": "61lIJe-_5ehN"
      },
      "outputs": [],
      "source": [
        "# Install necessary dependencies\n",
        "!pip install numpy matplotlib\n",
        "\n",
        "import numpy as np\n",
        "import matplotlib.pyplot as plt\n",
        "from IPython.display import clear_output\n",
        "from matplotlib.widgets import Slider\n",
        "\n",
        "# Function to generate Fibonacci logarithmic spiral points\n",
        "def fibonacci_log_spiral(n_points, scale):\n",
        "    # Generate theta values that follow the Fibonacci sequence in growth\n",
        "    theta = np.linspace(0, 4 * np.pi, n_points)\n",
        "    radius = scale * np.exp(0.30635 * theta)  # 0.30635 approximates the growth rate of the Fibonacci sequence\n",
        "    x = radius * np.cos(theta)\n",
        "    y = radius * np.sin(theta)\n",
        "    return x, y\n",
        "\n",
        "# Display initial Fibonacci logarithmic spiral\n",
        "n_points = 500  # Number of points in the spiral\n",
        "scale = 1  # Scale factor for the spiral\n",
        "\n",
        "x, y = fibonacci_log_spiral(n_points, scale)\n",
        "fig, ax = plt.subplots()\n",
        "spiral_line, = ax.plot(x, y, color=\"blue\")\n",
        "ax.set_aspect(\"equal\", \"box\")\n",
        "plt.title(\"Fibonacci Logarithmic Spiral\")\n",
        "plt.grid(True)\n",
        "\n",
        "# Since interactive sliders are not supported in Colab, we provide a function to replot with new parameters\n",
        "def update_fibonacci_spiral(n_points=500, scale=1):\n",
        "    x, y = fibonacci_log_spiral(n_points, scale)\n",
        "    spiral_line.set_data(x, y)\n",
        "    ax.relim()\n",
        "    ax.autoscale_view()\n",
        "    clear_output(wait=True)\n",
        "    fig.canvas.draw()\n",
        "    plt.show()\n",
        "\n",
        "# Initial display of the spiral\n",
        "plt.show()\n",
        "\n",
        "# Usage example for Colab: calling the function to update the spiral\n",
        "# Example: update_fibonacci_spiral(n_points=700, scale=1.5)\n"
      ]
    }
  ]
}