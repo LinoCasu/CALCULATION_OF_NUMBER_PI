{
 "nbformat": 4,
 "nbformat_minor": 5,
 "metadata": {
  "colab": {
   "name": "Pi_AutoRunner.ipynb"
  },
  "kernelspec": {
   "display_name": "Python 3",
   "language": "python",
   "name": "python3"
  }
 },
 "cells": [
  {
   "cell_type": "markdown",
   "metadata": {},
   "source": [
    "# 📐 Pi_AutoRunner — CALCULATION_OF_NUMBER_PI\n",
    "\n",
    "Dieses Notebook:\n",
    "1) installiert System-Pakete (inkl. CUDA Toolkit),\n",
    "2) klont `error-wtf/CALCULATION_OF_NUMBER_PI`,\n",
    "3) erkennt automatisch einen Python-Entry-Point und startet ihn (konfigurierbar),\n",
    "4) **installiert die im Repo bereits enthaltene `.deb`** `pi-error-wtf-v1.0-Linux.deb` (kein Neubau),\n",
    "5) hat einen RAM/Disk-Heuristik-Check für sichere **Max-Digits**.\n",
    "\n",
    "> Tipp: Wenn sich die Struktur ändert, setze unten `ENTRYPOINT` manuell."
   ]
  },
  {
   "cell_type": "code",
   "execution_count": null,
   "metadata": {
    "id": "deps"
   },
   "outputs": [],
   "source": [
    "# === 0) System dependencies ===\n",
    "!sudo apt-get update -y\n",
    "!sudo apt-get install -y build-essential cmake libboost-dev nvidia-cuda-toolkit dpkg-dev rsync git\n",
    "!python3 -V\n",
    "!gcc --version | head -n1 || true\n",
    "!nproc --all || true\n",
    "!free -h || true\n",
    "!df -h / || true\n",
    "print(\"CUDA (nvcc) present:\")\n",
    "!nvcc --version || true"
   ]
  },
  {
   "cell_type": "code",
   "execution_count": null,
   "metadata": {
    "id": "clone"
   },
   "outputs": [],
   "source": [
    "# === 1) Clone repository ===\n",
    "REPO_URL = \"https://github.com/error-wtf/CALCULATION_OF_NUMBER_PI.git\"\n",
    "REPO_DIR = \"/content/CALCULATION_OF_NUMBER_PI\"\n",
    "\n",
    "import os, shutil, subprocess\n",
    "if os.path.exists(REPO_DIR):\n",
    "    shutil.rmtree(REPO_DIR)\n",
    "!\n",
    "git clone --depth=1 \"$REPO_URL\" \"$REPO_DIR\"\n",
    "!find \"$REPO_DIR\" -maxdepth 2 -type f -printf \"%p\\n\" | sort"
   ]
  },
  {
   "cell_type": "markdown",
   "metadata": {},
   "source": [
    "## Parameter — Entry-Point & Digits\n",
    "Du kannst hier Entry-Point und gewünschte Ziffern setzen. Wenn leer, wird automatisch gesucht."
   ]
  },
  {
   "cell_type": "code",
   "execution_count": null,
   "metadata": {
    "id": "params"
   },
   "outputs": [],
   "source": [
    "#@title Runner-Einstellungen\n",
    "ENTRYPOINT = \"\"  #@param {type:\"string\"}\n",
    "ENTRY_ARGS_TEXT = \"\"  #@param {type:\"string\"}\n",
    "RUN_SOURCE = True  #@param {type:\"boolean\"}\n",
    "INSTALL_DEB = True  #@param {type:\"boolean\"}\n",
    "\n",
    "# ENTRY_ARGS_TEXT wird in eine Liste gesplittet (shell-like)\n",
    "import shlex\n",
    "ENTRY_ARGS = shlex.split(ENTRY_ARGS_TEXT) if ENTRY_ARGS_TEXT else []\n",
    "print({\"ENTRYPOINT\": ENTRYPOINT, \"ENTRY_ARGS\": ENTRY_ARGS, \"RUN_SOURCE\": RUN_SOURCE, \"INSTALL_DEB\": INSTALL_DEB})"
   ]
  },
  {
   "cell_type": "markdown",
   "metadata": {},
   "source": [
    "## Heuristik: sichere Max-Digits (RAM & Disk)\n",
    "Sehr konservative Schätzung (anpassbar)."
   ]
  },
  {
   "cell_type": "code",
   "execution_count": null,
   "metadata": {
    "id": "digits"
   },
   "outputs": [],
   "source": [
    "import shutil\n",
    "\n",
    "def mem_free_bytes():\n",
    "    try:\n",
    "        with open(\"/proc/meminfo\") as f:\n",
    "            for line in f:\n",
    "                if line.startswith(\"MemAvailable:\"):\n",
    "                    return int(line.split()[1]) * 1024\n",
    "    except Exception:\n",
    "        return 1_000_000_000\n",
    "\n",
    "def disk_free_bytes(path=\"/content\"):\n",
    "    return shutil.disk_usage(path).free\n",
    "\n",
    "# konservativ; je nach Implementierung anpassen\n",
    "BYTES_PER_DIGIT_RAM = 32   # Arbeits-Buffer\n",
    "BYTES_PER_DIGIT_DISK = 2   # Ausgabe + Temp\n",
    "\n",
    "ram = mem_free_bytes()\n",
    "disk = disk_free_bytes()\n",
    "max_ram = ram // BYTES_PER_DIGIT_RAM\n",
    "max_disk = disk // BYTES_PER_DIGIT_DISK\n",
    "safe = int(min(max_ram, max_disk) * 0.7)\n",
    "print(f\"Free RAM  : {ram/1e9:.2f} GB\")\n",
    "print(f\"Free Disk : {disk/1e9:.2f} GB\")\n",
    "print(f\"RAM-bound  : {max_ram:,} digits (est)\")\n",
    "print(f\"Disk-bound : {max_disk:,} digits (est)\")\n",
    "print(f\"Suggested  : {safe:,} digits\")"
   ]
  },
  {
   "cell_type": "markdown",
   "metadata": {},
   "source": [
    "## Source-Runner (auto-detect `main.py` / `runner.py` / `run.py`)\n",
    "Wenn `ENTRYPOINT` oben leer ist, wird automatisch gesucht."
   ]
  },
  {
   "cell_type": "code",
   "execution_count": null,
   "metadata": {
    "id": "run"
   },
   "outputs": [],
   "source": [
    "import os, glob, subprocess, sys, shlex\n",
    "os.chdir(REPO_DIR)\n",
    "\n",
    "if RUN_SOURCE:\n",
    "    ep = ENTRYPOINT.strip() if ENTRYPOINT else \"\"\n",
    "    if not ep:\n",
    "        candidates = [\"main.py\", \"runner.py\", \"run.py\"]\n",
    "        # Fallback: größte top-level .py\n",
    "        for p in sorted(glob.glob(\"*.py\"), key=lambda p: os.path.getsize(p), reverse=True):\n",
    "            if p not in candidates:\n",
    "                candidates.append(p)\n",
    "        for c in candidates:\n",
    "            if os.path.exists(c):\n",
    "                ep = c\n",
    "                break\n",
    "    print(\"Detected ENTRYPOINT:\", ep or \"<none>\")\n",
    "    if ep:\n",
    "        cmd = [\"python3\", \"-u\", ep] + ENTRY_ARGS\n",
    "        print(\"Running:\", \" \".join(shlex.quote(x) for x in cmd))\n",
    "        proc = subprocess.Popen(cmd, stdout=subprocess.PIPE, stderr=subprocess.STDOUT, text=True)\n",
    "        for line in proc.stdout:\n",
    "            sys.stdout.write(line)\n",
    "        proc.wait()\n",
    "        print(\"\\n-- exit code:\", proc.returncode)\n",
    "    else:\n",
    "        print(\"No entrypoint found. Set ENTRYPOINT manually in the params cell.\")\n",
    "else:\n",
    "    print(\"RUN_SOURCE=False -> übersprungen.\")"
   ]
  },
  {
   "cell_type": "markdown",
   "metadata": {},
   "source": [
    "## `.deb` aus dem Repo installieren (kein Neubau)\n",
    "Sucht nach `pi-error-wtf-v1.0-Linux.deb` und installiert diese direkt mit `dpkg -i`."
   ]
  },
  {
   "cell_type": "code",
   "execution_count": null,
   "metadata": {
    "id": "deb"
   },
   "outputs": [],
   "source": [
    "import os, glob\n",
    "DEB_NAME = \"pi-error-wtf-v1.0-Linux.deb\"\n",
    "\n",
    "if INSTALL_DEB:\n",
    "    debs = [p for p in glob.glob(os.path.join(REPO_DIR, \"**\", \"*.deb\"), recursive=True)\n",
    "            if os.path.basename(p) == DEB_NAME]\n",
    "    if not debs:\n",
    "        print(f\"❗ {DEB_NAME} nicht gefunden. Prüfe Pfad/Dateiname im Repo.\")\n",
    "    else:\n",
    "        deb_path = debs[0]\n",
    "        print(\"Gefunden:\", deb_path)\n",
    "        !chmod a+x \"$deb_path\"\n",
    "        !sudo dpkg -i \"$deb_path\" || true\n",
    "        print(\"\\nWenn Abhängigkeiten fehlen: bitte ausführen ->  sudo apt-get -f install -y\")\n",
    "else:\n",
    "    print(\"INSTALL_DEB=False -> übersprungen.\")"
   ]
  },
  {
   "cell_type": "markdown",
   "metadata": {},
   "source": [
    "## (Optional) Installation prüfen & mögliche Launcher finden"
   ]
  },
  {
   "cell_type": "code",
   "execution_count": null,
   "metadata": {
    "id": "post"
   },
   "outputs": [],
   "source": [
    "!which -a pi-calc || true\n",
    "!ls -l /usr/local/bin || true\n",
    "!ls -l /opt || true"
   ]
  }
 ]
}
