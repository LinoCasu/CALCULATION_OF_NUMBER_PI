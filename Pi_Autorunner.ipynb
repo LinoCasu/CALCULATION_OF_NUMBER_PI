{
 "nbformat": 4,
 "nbformat_minor": 5,
 "metadata": {
  "colab": { "name": "Pi_AutoRunner.ipynb" },
  "kernelspec": { "display_name": "Python 3", "language": "python", "name": "python3" }
 },
 "cells": [
  {
   "cell_type": "markdown",
   "metadata": {},
   "source": [
    "# 📐 Pi_AutoRunner — Linux Menu Support (Colab)\n",
    "\n",
    "Dieses Notebook klont das Repo, kann (optional) die mitgelieferte `.deb` installieren\n",
    "und führt die **Linux-Menu-Schritte** automatisch aus:\n",
    "\n",
    "- `chmod +x *.sh` und `./start.sh`\n",
    "- Falls nötig vorher: `python3-gmpy2` via `pi-install.sh`\n",
    "- Separate Zellen für **Run from Source** und **Run from Installed .deb**\n"
   ]
  },
  {
   "cell_type": "markdown",
   "metadata": {},
   "source": ["## 0) System vorbereiten"]
  },
  {
   "cell_type": "code",
   "metadata": { "id": "deps" },
   "execution_count": null,
   "outputs": [],
   "source": [
    "!sudo apt-get update -y\n",
    "!sudo apt-get install -y build-essential cmake libboost-dev nvidia-cuda-toolkit git dpkg-dev rsync\n",
    "!python3 -V\n",
    "!gcc --version | head -n1 || true\n",
    "!nproc --all || true\n",
    "!free -h || true\n",
    "!df -h / || true\n",
    "print(\"CUDA (nvcc) present?\")\n",
    "!nvcc --version || true\n"
   ]
  },
  {
   "cell_type": "markdown",
   "metadata": {},
   "source": ["## 1) Repository klonen"]
  },
  {
   "cell_type": "code",
   "metadata": { "id": "clone" },
   "execution_count": null,
   "outputs": [],
   "source": [
    "REPO_URL = \"https://github.com/error-wtf/CALCULATION_OF_NUMBER_PI.git\"\n",
    "REPO_DIR = \"/content/CALCULATION_OF_NUMBER_PI\"\n",
    "\n",
    "import os, shutil\n",
    "if os.path.exists(REPO_DIR):\n",
    "    shutil.rmtree(REPO_DIR)\n",
    "\n",
    "!git clone --depth=1 \"$REPO_URL\" \"$REPO_DIR\"\n",
    "!find \"$REPO_DIR\" -maxdepth 2 -type f -printf \"%p\\n\" | sort\n"
   ]
  },
  {
   "cell_type": "markdown",
   "metadata": {},
   "source": ["## 2) (Optional) .deb installieren (falls gewünscht)"]
  },
  {
   "cell_type": "code",
   "metadata": { "id": "deb" },
   "execution_count": null,
   "outputs": [],
   "source": [
    "import os, glob\n",
    "DEB_NAME = \"pi-error-wtf-v1.0-Linux.deb\"\n",
    "debs = [p for p in glob.glob(os.path.join(REPO_DIR, \"**\", \"*.deb\"), recursive=True)\n",
    "         if os.path.basename(p) == DEB_NAME]\n",
    "if debs:\n",
    "    deb_path = debs[0]\n",
    "    print(\"Gefunden:\", deb_path)\n",
    "    !chmod a+x \"$deb_path\"\n",
    "    !sudo dpkg -i \"$deb_path\" || true\n",
    "    print(\"\\nFalls Abhängigkeiten fehlen:  sudo apt-get -f install -y\")\n",
    "else:\n",
    "    print(f\"{DEB_NAME} nicht gefunden – Schritt übersprungen.\")\n"
   ]
  },
  {
   "cell_type": "markdown",
   "metadata": {},
   "source": ["## 3) Linux Menu — Dependencies installieren (falls nötig)"]
  },
  {
   "cell_type": "code",
   "metadata": { "id": "menu-deps" },
   "execution_count": null,
   "outputs": [],
   "source": [
    "# Variante A: Direkt via apt (schnell)\n",
    "!sudo apt-get install -y python3-gmpy2 || true\n",
    "\n",
    "# Variante B: Falls das Projekt ein eigenes Install-Skript hat:\n",
    "%cd /content/CALCULATION_OF_NUMBER_PI\n",
    "!sudo chmod a+x *.sh || true\n",
    "import os\n",
    "if os.path.exists(\"pi-install.sh\"):\n",
    "    !sudo ./pi-install.sh || true\n",
    "else:\n",
    "    print(\"pi-install.sh nicht gefunden – benutze apt-Install oben.\")\n"
   ]
  },
  {
   "cell_type": "markdown",
   "metadata": {},
   "source": ["## 4) Linux Menu — Run (`chmod +x *.sh` und `./start.sh`)"]
  },
  {
   "cell_type": "code",
   "metadata": { "id": "menu-run" },
   "execution_count": null,
   "outputs": [],
   "source": [
    "%cd /content/CALCULATION_OF_NUMBER_PI\n",
    "!sudo chmod a+x *.sh || true\n",
    "import os\n",
    "if os.path.exists(\"start.sh\"):\n",
    "    print(\"Starte ./start.sh ...\")\n",
    "    !sudo ./start.sh\n",
    "else:\n",
    "    print(\"start.sh nicht gefunden. Bitte prüfe den Repo-Inhalt.\")\n"
   ]
  },
  {
   "cell_type": "markdown",
   "metadata": {},
   "source": [
    "---\n",
    "## ▶️ Separat: Run from Source (optional)\n",
    "Erkennt den Entry-Point automatisch und startet direkt aus dem Repo."
   ]
  },
  {
   "cell_type": "code",
   "metadata": { "id": "run-source" },
   "execution_count": null,
   "outputs": [],
   "source": [
    "import subprocess, sys, shlex, glob, os\n",
    "os.chdir(REPO_DIR)\n",
    "\n",
    "candidates = [\"main.py\",\"runner.py\",\"run.py\"]\n",
    "for p in sorted(glob.glob(\"*.py\"), key=lambda p: os.path.getsize(p), reverse=True):\n",
    "    if p not in candidates:\n",
    "        candidates.append(p)\n",
    "\n",
    "ep = \"\"\n",
    "for c in candidates:\n",
    "    if os.path.exists(c):\n",
    "        ep = c\n",
    "        break\n",
    "\n",
    "print(\"Detected ENTRYPOINT:\", ep or \"<none>\")\n",
    "if ep:\n",
    "    cmd = [\"python3\",\"-u\",ep]\n",
    "    print(\"Running:\", \" \".join(shlex.quote(x) for x in cmd))\n",
    "    p = subprocess.Popen(cmd, stdout=subprocess.PIPE, stderr=subprocess.STDOUT, text=True)\n",
    "    for line in p.stdout:\n",
    "        sys.stdout.write(line)\n",
    "    p.wait()\n",
    "    print(\"\\n-- exit code:\", p.returncode)\n",
    "else:\n",
    "    print(\"Kein Entry-Point gefunden.\")\n"
   ]
  },
  {
   "cell_type": "markdown",
   "metadata": {},
   "source": [
    "## ▶️ Separat: Run from Installed .deb (optional)\n",
    "Versucht `pi-error-wtf --help`, dann `pi-calc`, dann `/usr/local/bin/pi*`, danach Fallback auf `/opt/CALCULATION_OF_NUMBER_PI/*.py`."
   ]
  },
  {
   "cell_type": "code",
   "metadata": { "id": "run-deb" },
   "execution_count": null,
   "outputs": [],
   "source": [
    "import subprocess, sys, shlex, glob, os\n",
    "\n",
    "def try_run(cmd):\n",
    "    try:\n",
    "        print(\"Trying:\", \" \".join(shlex.quote(c) for c in cmd))\n",
    "        p = subprocess.Popen(cmd, stdout=subprocess.PIPE, stderr=subprocess.STDOUT, text=True)\n",
    "        for line in p.stdout:\n",
    "            sys.stdout.write(line)\n",
    "        p.wait()\n",
    "        print(\"\\n-- exit code:\", p.returncode)\n",
    "        return p.returncode == 0\n",
    "    except FileNotFoundError:\n",
    "        return False\n",
    "\n",
    "if not try_run([\"pi-error-wtf\",\"--help\"]):\n",
    "    if not try_run([\"pi-calc\",\"--help\"]):\n",
    "        bin_dir = \"/usr/local/bin\"\n",
    "        found = False\n",
    "        if os.path.isdir(bin_dir):\n",
    "            for f in sorted(os.listdir(bin_dir)):\n",
    "                p = os.path.join(bin_dir, f)\n",
    "                try:\n",
    "                    if os.path.isfile(p) and os.access(p, os.X_OK) and f.startswith(\"pi\"):\n",
    "                        if try_run([p, \"--help\"]):\n",
    "                            found = True\n",
    "                            break\n",
    "                except Exception:\n",
    "                    pass\n",
    "        if not found:\n",
    "            opt = \"/opt/CALCULATION_OF_NUMBER_PI\"\n",
    "            if os.path.isdir(opt):\n",
    "                py = [\"main.py\",\"runner.py\",\"run.py\"]\n",
    "                for pth in sorted(glob.glob(os.path.join(opt,\"*.py\")), key=lambda q: os.path.getsize(q), reverse=True):\n",
    "                    b = os.path.basename(pth)\n",
    "                    if b not in py:\n",
    "                        py.append(b)\n",
    "                ep = \"\"\n",
    "                for c in py:\n",
    "                    if os.path.exists(os.path.join(opt,c)):\n",
    "                        ep = os.path.join(opt,c); break\n",
    "                if ep:\n",
    "                    try_run([\"python3\",\"-u\",ep,\"--help\"])\n",
    "                else:\n",
    "                    print(\"Kein Python-Entry unter /opt/CALCULATION_OF_NUMBER_PI gefunden.\")\n",
    "            else:\n",
    "                print(\"/opt/CALCULATION_OF_NUMBER_PI nicht vorhanden – ist die .deb installiert?\")\n"
   ]
  }
 ]
}
