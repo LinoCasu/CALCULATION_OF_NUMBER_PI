{
  "nbformat": 4,
  "nbformat_minor": 0,
  "metadata": {
    "colab": {
      "private_outputs": true,
      "provenance": [],
      "toc_visible": true,
      "authorship_tag": "ABX9TyN6Wz5kh5Ep0y2+hbP2JkyR",
      "include_colab_link": true
    },
    "kernelspec": {
      "name": "python3",
      "display_name": "Python 3"
    },
    "language_info": {
      "name": "python"
    }
  },
  "cells": [
    {
      "cell_type": "markdown",
      "metadata": {
        "id": "view-in-github",
        "colab_type": "text"
      },
      "source": [
        "<a href=\"https://colab.research.google.com/github/LinoCasu/CALCULATION_OF_NUMBER_PI/blob/main/Square_Root_Calculation.ipynb\" target=\"_parent\"><img src=\"https://colab.research.google.com/assets/colab-badge.svg\" alt=\"Open In Colab\"/></a>"
      ]
    },
    {
      "cell_type": "code",
      "execution_count": null,
      "metadata": {
        "id": "RIZHlFkLgMnJ"
      },
      "outputs": [],
      "source": [
        "import decimal\n",
        "\n",
        "# Set the precision to a higher number of decimal places\n",
        "decimal.getcontext().prec = 50\n",
        "\n",
        "# Function to calculate the root using decimal\n",
        "def calculate_root(number, root_exponent):\n",
        "    number_decimal = decimal.Decimal(number)\n",
        "    exponent_decimal = decimal.Decimal(1) / decimal.Decimal(root_exponent)\n",
        "    return number_decimal ** exponent_decimal\n",
        "\n",
        "# Main program\n",
        "if __name__ == \"__main__\":\n",
        "    try:\n",
        "        # Input the number\n",
        "        number = input(\"Enter the number you want to calculate the root of: \")\n",
        "\n",
        "        # Input the root exponent\n",
        "        root_exponent = input(\"Enter the root exponent (e.g., 2 for square root, 3 for cube root): \")\n",
        "\n",
        "        # Calculate the root\n",
        "        result = calculate_root(number, root_exponent)\n",
        "\n",
        "        # Output the result without scientific notation\n",
        "        print(f\"The {root_exponent}-th root of {number} is {result}\")\n",
        "\n",
        "    except decimal.InvalidOperation:\n",
        "        print(\"Please enter a valid number.\")\n",
        "\n"
      ]
    }
  ]
}